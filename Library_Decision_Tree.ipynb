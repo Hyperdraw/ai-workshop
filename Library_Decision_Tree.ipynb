{
  "nbformat": 4,
  "nbformat_minor": 0,
  "metadata": {
    "colab": {
      "name": "Library Decision Tree.ipynb",
      "provenance": []
    },
    "kernelspec": {
      "name": "python3",
      "display_name": "Python 3"
    },
    "language_info": {
      "name": "python"
    }
  },
  "cells": [
    {
      "cell_type": "code",
      "execution_count": 17,
      "metadata": {
        "id": "HYAoZs0JMmOo"
      },
      "outputs": [],
      "source": [
        "import pandas as pd\n",
        "from sklearn.preprocessing import LabelEncoder\n",
        "from sklearn.tree import DecisionTreeClassifier, plot_tree"
      ]
    },
    {
      "cell_type": "code",
      "source": [
        "mush_train = pd.read_csv('mush_train.data').to_numpy()\n",
        "mush_test = pd.read_csv('mush_test.data').to_numpy()\n",
        "X_train = mush_train[:, 1:]\n",
        "Y_train = mush_train[:, 0]\n",
        "X_test = mush_test[:, 1:]\n",
        "Y_test = mush_test[:, 0]\n",
        "print(X_train.shape, Y_train.shape, X_test.shape, Y_test.shape)"
      ],
      "metadata": {
        "colab": {
          "base_uri": "https://localhost:8080/"
        },
        "id": "SUZLVTpaM1bC",
        "outputId": "87889133-d5db-423e-b5e7-122a134e617d"
      },
      "execution_count": 18,
      "outputs": [
        {
          "output_type": "stream",
          "name": "stdout",
          "text": [
            "(4711, 22) (4711,) (3411, 22) (3411,)\n"
          ]
        }
      ]
    },
    {
      "cell_type": "code",
      "source": [
        "for col in range(X_train.shape[1]):\n",
        "  encoder = LabelEncoder()\n",
        "  encoder.fit(X_train[:, col])\n",
        "  X_train[:, col] = encoder.transform(X_train[:, col])\n",
        "  X_test[:, col] = encoder.transform(X_test[:, col])\n",
        "\n",
        "encoder = LabelEncoder()\n",
        "encoder.fit(Y_train)\n",
        "Y_train = encoder.transform(Y_train)\n",
        "Y_test = encoder.transform(Y_test)"
      ],
      "metadata": {
        "id": "9LrURyYjNmzB"
      },
      "execution_count": 19,
      "outputs": []
    },
    {
      "cell_type": "code",
      "source": [
        "model = DecisionTreeClassifier(criterion='entropy')\n",
        "model.fit(X_train, Y_train)"
      ],
      "metadata": {
        "colab": {
          "base_uri": "https://localhost:8080/"
        },
        "id": "sRIApbXUNf67",
        "outputId": "5c788a80-ce1f-45d7-c0e0-d7e60cf9dd65"
      },
      "execution_count": 20,
      "outputs": [
        {
          "output_type": "execute_result",
          "data": {
            "text/plain": [
              "DecisionTreeClassifier(criterion='entropy')"
            ]
          },
          "metadata": {},
          "execution_count": 20
        }
      ]
    },
    {
      "cell_type": "code",
      "source": [
        "model.score(X_test, Y_test)"
      ],
      "metadata": {
        "colab": {
          "base_uri": "https://localhost:8080/"
        },
        "id": "nO38oJgcOucQ",
        "outputId": "515504dd-bdb9-434b-eb2e-ff27ce6d8ebf"
      },
      "execution_count": 21,
      "outputs": [
        {
          "output_type": "execute_result",
          "data": {
            "text/plain": [
              "1.0"
            ]
          },
          "metadata": {},
          "execution_count": 21
        }
      ]
    },
    {
      "cell_type": "code",
      "source": [
        "plot_tree(model)"
      ],
      "metadata": {
        "colab": {
          "base_uri": "https://localhost:8080/",
          "height": 682
        },
        "id": "x5V9xqzJvSjI",
        "outputId": "b39eafe9-e869-4775-a88a-2698ef893b2f"
      },
      "execution_count": 22,
      "outputs": [
        {
          "output_type": "execute_result",
          "data": {
            "text/plain": [
              "[Text(0.3076923076923077, 0.9375, 'X[8] <= 0.5\\nentropy = 0.999\\nsamples = 4711\\nvalue = [2433, 2278]'),\n",
              " Text(0.23076923076923078, 0.8125, 'entropy = 0.0\\nsamples = 1026\\nvalue = [0, 1026]'),\n",
              " Text(0.38461538461538464, 0.8125, 'X[19] <= 1.5\\nentropy = 0.925\\nsamples = 3685\\nvalue = [2433, 1252]'),\n",
              " Text(0.15384615384615385, 0.6875, 'X[4] <= 3.5\\nentropy = 0.289\\nsamples = 949\\nvalue = [48, 901]'),\n",
              " Text(0.07692307692307693, 0.5625, 'entropy = 0.0\\nsamples = 901\\nvalue = [0, 901]'),\n",
              " Text(0.23076923076923078, 0.5625, 'entropy = 0.0\\nsamples = 48\\nvalue = [48, 0]'),\n",
              " Text(0.6153846153846154, 0.6875, 'X[7] <= 0.5\\nentropy = 0.553\\nsamples = 2736\\nvalue = [2385, 351]'),\n",
              " Text(0.38461538461538464, 0.5625, 'X[19] <= 4.5\\nentropy = 0.174\\nsamples = 2298\\nvalue = [2238, 60]'),\n",
              " Text(0.3076923076923077, 0.4375, 'entropy = 0.0\\nsamples = 1923\\nvalue = [1923, 0]'),\n",
              " Text(0.46153846153846156, 0.4375, 'X[10] <= 2.0\\nentropy = 0.634\\nsamples = 375\\nvalue = [315, 60]'),\n",
              " Text(0.38461538461538464, 0.3125, 'X[21] <= 3.5\\nentropy = 0.839\\nsamples = 82\\nvalue = [22, 60]'),\n",
              " Text(0.3076923076923077, 0.1875, 'X[20] <= 4.5\\nentropy = 0.391\\nsamples = 65\\nvalue = [5, 60]'),\n",
              " Text(0.23076923076923078, 0.0625, 'entropy = 0.0\\nsamples = 60\\nvalue = [0, 60]'),\n",
              " Text(0.38461538461538464, 0.0625, 'entropy = 0.0\\nsamples = 5\\nvalue = [5, 0]'),\n",
              " Text(0.46153846153846156, 0.1875, 'entropy = 0.0\\nsamples = 17\\nvalue = [17, 0]'),\n",
              " Text(0.5384615384615384, 0.3125, 'entropy = 0.0\\nsamples = 293\\nvalue = [293, 0]'),\n",
              " Text(0.8461538461538461, 0.5625, 'X[4] <= 5.5\\nentropy = 0.921\\nsamples = 438\\nvalue = [147, 291]'),\n",
              " Text(0.7692307692307693, 0.4375, 'X[20] <= 3.5\\nentropy = 0.999\\nsamples = 286\\nvalue = [147, 139]'),\n",
              " Text(0.6923076923076923, 0.3125, 'entropy = 0.0\\nsamples = 74\\nvalue = [0, 74]'),\n",
              " Text(0.8461538461538461, 0.3125, 'X[21] <= 1.0\\nentropy = 0.889\\nsamples = 212\\nvalue = [147, 65]'),\n",
              " Text(0.7692307692307693, 0.1875, 'X[3] <= 0.5\\nentropy = 0.994\\nsamples = 119\\nvalue = [54, 65]'),\n",
              " Text(0.6923076923076923, 0.0625, 'entropy = 0.0\\nsamples = 65\\nvalue = [0, 65]'),\n",
              " Text(0.8461538461538461, 0.0625, 'entropy = 0.0\\nsamples = 54\\nvalue = [54, 0]'),\n",
              " Text(0.9230769230769231, 0.1875, 'entropy = 0.0\\nsamples = 93\\nvalue = [93, 0]'),\n",
              " Text(0.9230769230769231, 0.4375, 'entropy = 0.0\\nsamples = 152\\nvalue = [0, 152]')]"
            ]
          },
          "metadata": {},
          "execution_count": 22
        },
        {
          "output_type": "display_data",
          "data": {
            "text/plain": [
              "<Figure size 432x288 with 1 Axes>"
            ],
            "image/png": "[encoded data removed]"
          },
          "metadata": {
            "needs_background": "light"
          }
        }
      ]
    },
    {
      "cell_type": "code",
      "source": [
        "model.get_depth()"
      ],
      "metadata": {
        "colab": {
          "base_uri": "https://localhost:8080/"
        },
        "id": "LF2qFLxIvkaX",
        "outputId": "7d714a1b-554c-4fd5-aa07-06c3c773b558"
      },
      "execution_count": 23,
      "outputs": [
        {
          "output_type": "execute_result",
          "data": {
            "text/plain": [
              "7"
            ]
          },
          "metadata": {},
          "execution_count": 23
        }
      ]
    }
  ]
}