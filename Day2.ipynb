{
  "nbformat": 4,
  "nbformat_minor": 0,
  "metadata": {
    "colab": {
      "name": "Day2.ipynb",
      "provenance": [],
      "collapsed_sections": []
    },
    "kernelspec": {
      "name": "python3",
      "display_name": "Python 3"
    },
    "language_info": {
      "name": "python"
    }
  },
  "cells": [
    {
      "cell_type": "markdown",
      "source": [
        "## Find the sum and difference of two numbers"
      ],
      "metadata": {
        "id": "KmSU2bD3y22g"
      }
    },
    {
      "cell_type": "code",
      "execution_count": 1,
      "metadata": {
        "id": "Y8n8yeGRwNmi",
        "colab": {
          "base_uri": "https://localhost:8080/"
        },
        "outputId": "158622c8-8fcd-4edb-c59a-199b0ef4bcce"
      },
      "outputs": [
        {
          "output_type": "stream",
          "name": "stdout",
          "text": [
            "Enter a number: 7\n",
            "Enter another number: 3\n",
            "7.0 + 3.0 = 10.0\n",
            "7.0 - 3.0 = 4.0\n"
          ]
        }
      ],
      "source": [
        "a = float(input('Enter a number: '))\n",
        "b = float(input('Enter another number: '))\n",
        "print(str(a) + ' + ' + str(b) + ' = ' + str(a + b))\n",
        "print(str(a) + ' - ' + str(b) + ' = ' + str(a - b))"
      ]
    },
    {
      "cell_type": "markdown",
      "source": [
        "## Generate a List"
      ],
      "metadata": {
        "id": "i-otMUnJ2Hu5"
      }
    },
    {
      "cell_type": "code",
      "source": [
        "def fib(n):\n",
        "  if n == 2:\n",
        "    return [0, 1]\n",
        "  else:\n",
        "    f = fib(n - 1)\n",
        "    return f + [f[-1] + f[-2]]\n",
        "\n",
        "print(fib(10))"
      ],
      "metadata": {
        "colab": {
          "base_uri": "https://localhost:8080/"
        },
        "id": "2Q16oxvE2QKV",
        "outputId": "a9b93890-cec8-4f36-a658-07d8ad843690"
      },
      "execution_count": 3,
      "outputs": [
        {
          "output_type": "stream",
          "name": "stdout",
          "text": [
            "[0, 1, 1, 2, 3, 5, 8, 13, 21, 34]\n"
          ]
        }
      ]
    },
    {
      "cell_type": "markdown",
      "source": [
        "## Fibonacci"
      ],
      "metadata": {
        "id": "xA87xzfKYk9I"
      }
    },
    {
      "cell_type": "code",
      "source": [
        "import time\n",
        "\n",
        "def fibonacci(n):\n",
        "  if n == 1:\n",
        "    return 0\n",
        "  elif n == 2:\n",
        "    return 1\n",
        "  else:\n",
        "    return fibonacci(n - 1) + fibonacci(n - 2)\n",
        "\n",
        "start = time.time()\n",
        "print(fibonacci(10))\n",
        "end = time.time()\n",
        "print(end - start)"
      ],
      "metadata": {
        "colab": {
          "base_uri": "https://localhost:8080/"
        },
        "id": "DlKzuX_LYtys",
        "outputId": "dd338759-40e2-4aa9-99a4-0dc363ebf4ef"
      },
      "execution_count": 7,
      "outputs": [
        {
          "output_type": "stream",
          "name": "stdout",
          "text": [
            "34\n",
            "0.002286672592163086\n"
          ]
        }
      ]
    },
    {
      "cell_type": "code",
      "source": [
        "board_size = int(input('Enter board size: '))\n",
        "board = []\n",
        "\n",
        "for r in range(board_size):\n",
        "  board.append([])\n",
        "\n",
        "  for c in range(board_size):\n",
        "    board[r].append('.')\n",
        "\n",
        "def print_board():\n",
        "  for row in board:\n",
        "    print(''.join(row))\n",
        "\n",
        "def winner():\n",
        "  for r in range(board_size):\n",
        "    x_win = True\n",
        "\n",
        "    for c in range(board_size):\n",
        "      if board[r][c] != 'x':\n",
        "        x_win = False\n",
        "        break\n",
        "    \n",
        "    if x_win:\n",
        "      return 'x'\n",
        "\n",
        "    o_win = True\n",
        "\n",
        "    for c in range(board_size):\n",
        "      if board[r][c] != 'o':\n",
        "        o_win = False\n",
        "        break\n",
        "    \n",
        "    if o_win:\n",
        "      return 'o'\n",
        "    \n",
        "    '''if board[r][0] == 'x' and board[r][1] == 'x' and board[r][2] == 'x':\n",
        "      return 'x'\n",
        "    elif board[r][0] == 'o' and board[r][1] == 'o' and board[r][2] == 'o':\n",
        "      return 'o'x_win = True\n",
        "\n",
        "  for i in range(board_size):\n",
        "    if board[i][i] != 'x':\n",
        "      x_win = False\n",
        "      break\n",
        "  \n",
        "  if x_win:\n",
        "      return 'x'\n",
        "    '''\n",
        "  \n",
        "  for c in range(board_size):\n",
        "    x_win = True\n",
        "\n",
        "    for r in range(board_size):\n",
        "      if board[r][c] != 'x':\n",
        "        x_win = False\n",
        "        break\n",
        "    \n",
        "    if x_win:\n",
        "      return 'x'\n",
        "    \n",
        "    o_win = True\n",
        "\n",
        "    for r in range(board_size):\n",
        "      if board[r][c] != 'o':\n",
        "        o_win = False\n",
        "        break\n",
        "    \n",
        "    if o_win:\n",
        "      return 'o'\n",
        "  \n",
        "  x_win = True\n",
        "\n",
        "  for i in range(board_size):\n",
        "    if board[i][i] != 'x':\n",
        "      x_win = False\n",
        "      break\n",
        "  \n",
        "  if x_win:\n",
        "      return 'x'\n",
        "  \n",
        "  o_win = True\n",
        "\n",
        "  for i in range(board_size):\n",
        "    if board[i][i] != 'o':\n",
        "      o_win = False\n",
        "      break\n",
        "  \n",
        "  if o_win:\n",
        "      return 'o'\n",
        "  \n",
        "  x_win = True\n",
        "\n",
        "  for i in range(board_size):\n",
        "    if board[i][board_size - 1 - i] != 'x':\n",
        "      x_win = False\n",
        "      break\n",
        "  \n",
        "  if x_win:\n",
        "      return 'x'\n",
        "\n",
        "  o_win = True\n",
        "\n",
        "  for i in range(board_size):\n",
        "    if board[i][board_size  - 1 - i] != 'o':\n",
        "      o_win = False\n",
        "      break\n",
        "  \n",
        "  if o_win:\n",
        "      return 'o'\n",
        "  \n",
        "  '''if board[0][0] == 'x' and board[1][1] == 'x' and board[2][2] == 'x':\n",
        "    return 'x'\n",
        "  elif board[0][0] == 'o' and board[1][1] == 'o' and board[2][2] == 'o':\n",
        "    return 'o'\n",
        "  \n",
        "  if board[0][2] == 'x' and board[1][1] == 'x' and board[2][0] == 'x':\n",
        "    return 'x'\n",
        "  elif board[0][2] == 'o' and board[1][1] == 'o' and board[2][0] == 'o':\n",
        "    return 'o'\n",
        "  '''\n",
        "  \n",
        "  return None\n",
        "\n",
        "turn = 'o'\n",
        "\n",
        "while winner() == None:\n",
        "  turn = 'x' if turn == 'o' else 'o'\n",
        "  print_board()\n",
        "  print('Turn ' + turn)\n",
        "\n",
        "  while True:\n",
        "    while True:\n",
        "      r = int(input('Enter row: '))\n",
        "\n",
        "      if r >= 0 and r < board_size:\n",
        "        break\n",
        "      \n",
        "      print('Invalid row number')\n",
        "\n",
        "    while True:\n",
        "      c = int(input('Enter column: '))\n",
        "\n",
        "      if c >= 0 and c < board_size:\n",
        "        break\n",
        "      \n",
        "      print('Invalid column number')\n",
        "\n",
        "    if board[r][c] == '.':\n",
        "      break\n",
        "    \n",
        "    print('That spot is taken; try again.')\n",
        "  \n",
        "  board[r][c] = turn\n",
        "\n",
        "print_board()\n",
        "print('The winner is ' + winner())"
      ],
      "metadata": {
        "colab": {
          "base_uri": "https://localhost:8080/",
          "height": 571
        },
        "id": "emH3DZ0AfWxt",
        "outputId": "c4a6cf72-eaff-4e62-ea09-222c6bba4fca"
      },
      "execution_count": 8,
      "outputs": [
        {
          "output_type": "error",
          "ename": "KeyboardInterrupt",
          "evalue": "ignored",
          "traceback": [
            "\u001b[0;31m---------------------------------------------------------------------------\u001b[0m",
            "\u001b[0;31mKeyboardInterrupt\u001b[0m                         Traceback (most recent call last)",
            "\u001b[0;32m/usr/local/lib/python3.7/dist-packages/ipykernel/kernelbase.py\u001b[0m in \u001b[0;36m_input_request\u001b[0;34m(self, prompt, ident, parent, password)\u001b[0m\n\u001b[1;32m    728\u001b[0m             \u001b[0;32mtry\u001b[0m\u001b[0;34m:\u001b[0m\u001b[0;34m\u001b[0m\u001b[0;34m\u001b[0m\u001b[0m\n\u001b[0;32m--> 729\u001b[0;31m                 \u001b[0mident\u001b[0m\u001b[0;34m,\u001b[0m \u001b[0mreply\u001b[0m \u001b[0;34m=\u001b[0m \u001b[0mself\u001b[0m\u001b[0;34m.\u001b[0m\u001b[0msession\u001b[0m\u001b[0;34m.\u001b[0m\u001b[0mrecv\u001b[0m\u001b[0;34m(\u001b[0m\u001b[0mself\u001b[0m\u001b[0;34m.\u001b[0m\u001b[0mstdin_socket\u001b[0m\u001b[0;34m,\u001b[0m \u001b[0;36m0\u001b[0m\u001b[0;34m)\u001b[0m\u001b[0;34m\u001b[0m\u001b[0;34m\u001b[0m\u001b[0m\n\u001b[0m\u001b[1;32m    730\u001b[0m             \u001b[0;32mexcept\u001b[0m \u001b[0mException\u001b[0m\u001b[0;34m:\u001b[0m\u001b[0;34m\u001b[0m\u001b[0;34m\u001b[0m\u001b[0m\n",
            "\u001b[0;32m/usr/local/lib/python3.7/dist-packages/jupyter_client/session.py\u001b[0m in \u001b[0;36mrecv\u001b[0;34m(self, socket, mode, content, copy)\u001b[0m\n\u001b[1;32m    802\u001b[0m         \u001b[0;32mtry\u001b[0m\u001b[0;34m:\u001b[0m\u001b[0;34m\u001b[0m\u001b[0;34m\u001b[0m\u001b[0m\n\u001b[0;32m--> 803\u001b[0;31m             \u001b[0mmsg_list\u001b[0m \u001b[0;34m=\u001b[0m \u001b[0msocket\u001b[0m\u001b[0;34m.\u001b[0m\u001b[0mrecv_multipart\u001b[0m\u001b[0;34m(\u001b[0m\u001b[0mmode\u001b[0m\u001b[0;34m,\u001b[0m \u001b[0mcopy\u001b[0m\u001b[0;34m=\u001b[0m\u001b[0mcopy\u001b[0m\u001b[0;34m)\u001b[0m\u001b[0;34m\u001b[0m\u001b[0;34m\u001b[0m\u001b[0m\n\u001b[0m\u001b[1;32m    804\u001b[0m         \u001b[0;32mexcept\u001b[0m \u001b[0mzmq\u001b[0m\u001b[0;34m.\u001b[0m\u001b[0mZMQError\u001b[0m \u001b[0;32mas\u001b[0m \u001b[0me\u001b[0m\u001b[0;34m:\u001b[0m\u001b[0;34m\u001b[0m\u001b[0;34m\u001b[0m\u001b[0m\n",
            "\u001b[0;32m/usr/local/lib/python3.7/dist-packages/zmq/sugar/socket.py\u001b[0m in \u001b[0;36mrecv_multipart\u001b[0;34m(self, flags, copy, track)\u001b[0m\n\u001b[1;32m    726\u001b[0m         \"\"\"\n\u001b[0;32m--> 727\u001b[0;31m         \u001b[0mparts\u001b[0m \u001b[0;34m=\u001b[0m \u001b[0;34m[\u001b[0m\u001b[0mself\u001b[0m\u001b[0;34m.\u001b[0m\u001b[0mrecv\u001b[0m\u001b[0;34m(\u001b[0m\u001b[0mflags\u001b[0m\u001b[0;34m,\u001b[0m \u001b[0mcopy\u001b[0m\u001b[0;34m=\u001b[0m\u001b[0mcopy\u001b[0m\u001b[0;34m,\u001b[0m \u001b[0mtrack\u001b[0m\u001b[0;34m=\u001b[0m\u001b[0mtrack\u001b[0m\u001b[0;34m)\u001b[0m\u001b[0;34m]\u001b[0m\u001b[0;34m\u001b[0m\u001b[0;34m\u001b[0m\u001b[0m\n\u001b[0m\u001b[1;32m    728\u001b[0m         \u001b[0;31m# have first part already, only loop while more to receive\u001b[0m\u001b[0;34m\u001b[0m\u001b[0;34m\u001b[0m\u001b[0;34m\u001b[0m\u001b[0m\n",
            "\u001b[0;32mzmq/backend/cython/socket.pyx\u001b[0m in \u001b[0;36mzmq.backend.cython.socket.Socket.recv\u001b[0;34m()\u001b[0m\n",
            "\u001b[0;32mzmq/backend/cython/socket.pyx\u001b[0m in \u001b[0;36mzmq.backend.cython.socket.Socket.recv\u001b[0;34m()\u001b[0m\n",
            "\u001b[0;32mzmq/backend/cython/socket.pyx\u001b[0m in \u001b[0;36mzmq.backend.cython.socket._recv_copy\u001b[0;34m()\u001b[0m\n",
            "\u001b[0;32m/usr/local/lib/python3.7/dist-packages/zmq/backend/cython/checkrc.pxd\u001b[0m in \u001b[0;36mzmq.backend.cython.checkrc._check_rc\u001b[0;34m()\u001b[0m\n",
            "\u001b[0;31mKeyboardInterrupt\u001b[0m: ",
            "\nDuring handling of the above exception, another exception occurred:\n",
            "\u001b[0;31mKeyboardInterrupt\u001b[0m                         Traceback (most recent call last)",
            "\u001b[0;32m<ipython-input-8-94dc7728d390>\u001b[0m in \u001b[0;36m<module>\u001b[0;34m()\u001b[0m\n\u001b[0;32m----> 1\u001b[0;31m \u001b[0mboard_size\u001b[0m \u001b[0;34m=\u001b[0m \u001b[0mint\u001b[0m\u001b[0;34m(\u001b[0m\u001b[0minput\u001b[0m\u001b[0;34m(\u001b[0m\u001b[0;34m'Enter board size: '\u001b[0m\u001b[0;34m)\u001b[0m\u001b[0;34m)\u001b[0m\u001b[0;34m\u001b[0m\u001b[0;34m\u001b[0m\u001b[0m\n\u001b[0m\u001b[1;32m      2\u001b[0m \u001b[0mboard\u001b[0m \u001b[0;34m=\u001b[0m \u001b[0;34m[\u001b[0m\u001b[0;34m]\u001b[0m\u001b[0;34m\u001b[0m\u001b[0;34m\u001b[0m\u001b[0m\n\u001b[1;32m      3\u001b[0m \u001b[0;34m\u001b[0m\u001b[0m\n\u001b[1;32m      4\u001b[0m \u001b[0;32mfor\u001b[0m \u001b[0mr\u001b[0m \u001b[0;32min\u001b[0m \u001b[0mrange\u001b[0m\u001b[0;34m(\u001b[0m\u001b[0mboard_size\u001b[0m\u001b[0;34m)\u001b[0m\u001b[0;34m:\u001b[0m\u001b[0;34m\u001b[0m\u001b[0;34m\u001b[0m\u001b[0m\n\u001b[1;32m      5\u001b[0m   \u001b[0mboard\u001b[0m\u001b[0;34m.\u001b[0m\u001b[0mappend\u001b[0m\u001b[0;34m(\u001b[0m\u001b[0;34m[\u001b[0m\u001b[0;34m]\u001b[0m\u001b[0;34m)\u001b[0m\u001b[0;34m\u001b[0m\u001b[0;34m\u001b[0m\u001b[0m\n",
            "\u001b[0;32m/usr/local/lib/python3.7/dist-packages/ipykernel/kernelbase.py\u001b[0m in \u001b[0;36mraw_input\u001b[0;34m(self, prompt)\u001b[0m\n\u001b[1;32m    702\u001b[0m             \u001b[0mself\u001b[0m\u001b[0;34m.\u001b[0m\u001b[0m_parent_ident\u001b[0m\u001b[0;34m,\u001b[0m\u001b[0;34m\u001b[0m\u001b[0;34m\u001b[0m\u001b[0m\n\u001b[1;32m    703\u001b[0m             \u001b[0mself\u001b[0m\u001b[0;34m.\u001b[0m\u001b[0m_parent_header\u001b[0m\u001b[0;34m,\u001b[0m\u001b[0;34m\u001b[0m\u001b[0;34m\u001b[0m\u001b[0m\n\u001b[0;32m--> 704\u001b[0;31m             \u001b[0mpassword\u001b[0m\u001b[0;34m=\u001b[0m\u001b[0;32mFalse\u001b[0m\u001b[0;34m,\u001b[0m\u001b[0;34m\u001b[0m\u001b[0;34m\u001b[0m\u001b[0m\n\u001b[0m\u001b[1;32m    705\u001b[0m         )\n\u001b[1;32m    706\u001b[0m \u001b[0;34m\u001b[0m\u001b[0m\n",
            "\u001b[0;32m/usr/local/lib/python3.7/dist-packages/ipykernel/kernelbase.py\u001b[0m in \u001b[0;36m_input_request\u001b[0;34m(self, prompt, ident, parent, password)\u001b[0m\n\u001b[1;32m    732\u001b[0m             \u001b[0;32mexcept\u001b[0m \u001b[0mKeyboardInterrupt\u001b[0m\u001b[0;34m:\u001b[0m\u001b[0;34m\u001b[0m\u001b[0;34m\u001b[0m\u001b[0m\n\u001b[1;32m    733\u001b[0m                 \u001b[0;31m# re-raise KeyboardInterrupt, to truncate traceback\u001b[0m\u001b[0;34m\u001b[0m\u001b[0;34m\u001b[0m\u001b[0;34m\u001b[0m\u001b[0m\n\u001b[0;32m--> 734\u001b[0;31m                 \u001b[0;32mraise\u001b[0m \u001b[0mKeyboardInterrupt\u001b[0m\u001b[0;34m\u001b[0m\u001b[0;34m\u001b[0m\u001b[0m\n\u001b[0m\u001b[1;32m    735\u001b[0m             \u001b[0;32melse\u001b[0m\u001b[0;34m:\u001b[0m\u001b[0;34m\u001b[0m\u001b[0;34m\u001b[0m\u001b[0m\n\u001b[1;32m    736\u001b[0m                 \u001b[0;32mbreak\u001b[0m\u001b[0;34m\u001b[0m\u001b[0;34m\u001b[0m\u001b[0m\n",
            "\u001b[0;31mKeyboardInterrupt\u001b[0m: "
          ]
        }
      ]
    }
  ]
}