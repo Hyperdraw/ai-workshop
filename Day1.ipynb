{
  "nbformat": 4,
  "nbformat_minor": 0,
  "metadata": {
    "colab": {
      "name": "Day1.ipynb",
      "provenance": []
    },
    "kernelspec": {
      "name": "python3",
      "display_name": "Python 3"
    },
    "language_info": {
      "name": "python"
    }
  },
  "cells": [
    {
      "cell_type": "markdown",
      "source": [
        "Check if a number is divisible by 6 without directly using `% 6`"
      ],
      "metadata": {
        "id": "S8AN4-OPzbLk"
      }
    },
    {
      "cell_type": "code",
      "execution_count": null,
      "metadata": {
        "id": "zNsRcdC8vmHS",
        "colab": {
          "base_uri": "https://localhost:8080/"
        },
        "outputId": "a915be89-0fee-406e-d0eb-a602779d9a6e"
      },
      "outputs": [
        {
          "output_type": "stream",
          "name": "stdout",
          "text": [
            "Divisible by 6\n"
          ]
        }
      ],
      "source": [
        "n = 12\n",
        "\n",
        "if n % 2 == 0 and n % 3 == 0:\n",
        "  print('Divisible by 6')\n",
        "else:\n",
        "  print('Not divisible by 6')"
      ]
    },
    {
      "cell_type": "markdown",
      "source": [
        "Find the factorial of a number"
      ],
      "metadata": {
        "id": "ZuQOQO6f13oR"
      }
    },
    {
      "cell_type": "code",
      "source": [
        "n = int(input('Enter a number: '))\n",
        "f = 1\n",
        "\n",
        "for i in range(n):\n",
        "  f *= i + 1\n",
        "\n",
        "print(f)"
      ],
      "metadata": {
        "colab": {
          "base_uri": "https://localhost:8080/"
        },
        "id": "KXsne_4_16ba",
        "outputId": "abbe7995-0234-46e5-e8aa-280dbccb9556"
      },
      "execution_count": null,
      "outputs": [
        {
          "output_type": "stream",
          "name": "stdout",
          "text": [
            "Enter a number: 4\n",
            "24\n"
          ]
        }
      ]
    },
    {
      "cell_type": "markdown",
      "source": [
        "Check if a number is prime"
      ],
      "metadata": {
        "id": "r0oTwQn12kPV"
      }
    },
    {
      "cell_type": "code",
      "source": [
        "n = int(input('Enter a number: '))\n",
        "\n",
        "prime = True\n",
        "\n",
        "for i in range(2, n):\n",
        "  if n % i == 0:\n",
        "    prime = False\n",
        "    print('Composite')\n",
        "    break\n",
        "\n",
        "if prime:\n",
        "  print('Prime')"
      ],
      "metadata": {
        "colab": {
          "base_uri": "https://localhost:8080/"
        },
        "id": "mTwsO1HR2m9e",
        "outputId": "32cf7d22-3f88-43eb-da69-69cafbc5424d"
      },
      "execution_count": null,
      "outputs": [
        {
          "output_type": "stream",
          "name": "stdout",
          "text": [
            "Enter a number: 11\n",
            "Prime\n"
          ]
        }
      ]
    }
  ]
}