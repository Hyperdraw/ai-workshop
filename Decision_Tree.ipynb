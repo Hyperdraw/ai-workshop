{
  "nbformat": 4,
  "nbformat_minor": 0,
  "metadata": {
    "colab": {
      "name": "Decision Tree.ipynb",
      "provenance": []
    },
    "kernelspec": {
      "name": "python3",
      "display_name": "Python 3"
    },
    "language_info": {
      "name": "python"
    }
  },
  "cells": [
    {
      "cell_type": "code",
      "source": [
        "import numpy as np\n",
        "import pandas as pd\n",
        "import math"
      ],
      "metadata": {
        "id": "dRTJVsM3OCTC"
      },
      "execution_count": null,
      "outputs": []
    },
    {
      "cell_type": "code",
      "source": [
        "train_df = pd.read_csv('mush_train.data', header=None)\n",
        "test_df = pd.read_csv('mush_test.data', header=None)\n",
        "mush_train = train_df.to_numpy()\n",
        "mush_test = test_df.to_numpy()\n",
        "print(mush_train.shape, mush_test.shape)\n",
        "X_train = mush_train[:, 1:]\n",
        "Y_train = mush_train[:, 0]\n",
        "X_test = mush_test[:, 1:]\n",
        "Y_test = mush_test[:, 0]\n",
        "print(X_train.shape, Y_train.shape, X_test.shape, Y_test.shape)"
      ],
      "metadata": {
        "colab": {
          "base_uri": "https://localhost:8080/"
        },
        "id": "ADftvcqoSlNY",
        "outputId": "cbff0ced-3364-41b1-a912-32a93b38d42f"
      },
      "execution_count": null,
      "outputs": [
        {
          "output_type": "stream",
          "name": "stdout",
          "text": [
            "(4712, 23) (3412, 23)\n",
            "(4712, 22) (4712,) (3412, 22) (3412,)\n"
          ]
        }
      ]
    },
    {
      "cell_type": "code",
      "execution_count": null,
      "metadata": {
        "id": "bqgi2UaHNTR2"
      },
      "outputs": [],
      "source": [
        "def H(X):\n",
        "  entropy = 0\n",
        "\n",
        "  for x in np.unique(X):\n",
        "    p = (X == x).sum() / len(X)\n",
        "\n",
        "    if p > 0:\n",
        "      entropy -= p * math.log(p)\n",
        "  \n",
        "  return entropy"
      ]
    },
    {
      "cell_type": "code",
      "source": [
        "def condH(Y, X):\n",
        "  entropy = 0\n",
        "\n",
        "  for x in np.unique(X):\n",
        "    subset = Y[X == x]\n",
        "    s = 0\n",
        "\n",
        "    for y in np.unique(Y):\n",
        "      p = (subset == y).sum() / len(subset)\n",
        "\n",
        "      if p > 0:\n",
        "        s += p * math.log(p)\n",
        "    \n",
        "    entropy += s * (X == x).sum() / len(X)\n",
        "  \n",
        "  return -entropy"
      ],
      "metadata": {
        "id": "sH14FtRAOsbR"
      },
      "execution_count": null,
      "outputs": []
    },
    {
      "cell_type": "code",
      "source": [
        "def ig(Y, X):\n",
        "  return H(Y) - condH(Y, X)"
      ],
      "metadata": {
        "id": "59K41YV8Q4-f"
      },
      "execution_count": null,
      "outputs": []
    },
    {
      "cell_type": "code",
      "source": [
        "class DecisionTree:\n",
        "  def __init__(self, X, Y, depth=0, maxdepth=16):\n",
        "    self.value = None\n",
        "    self.X = X\n",
        "    self.Y = Y\n",
        "\n",
        "    if len(np.unique(self.Y)) == 1:\n",
        "      self.value = self.Y[0]\n",
        "    elif depth == maxdepth:\n",
        "      vals, counts = np.unique(self.Y, return_counts=True)\n",
        "      self.value = vals[np.argwhere(counts == np.max(counts))].flatten()[0]\n",
        "    else:\n",
        "      self.attr = None\n",
        "      best_ig = None\n",
        "\n",
        "      for i in range(self.X.shape[1]):\n",
        "        attr_ig = ig(self.Y, self.X[:, i])\n",
        "\n",
        "        if self.attr == None or attr_ig > best_ig:\n",
        "          self.attr = i\n",
        "          best_ig = attr_ig\n",
        "      \n",
        "      self.threshold = self.X[:, self.attr].mean()\n",
        "      ge_i = np.where(self.X[:, self.attr] >= self.threshold)[0]\n",
        "\n",
        "      if len(ge_i) > 0:\n",
        "        self.ge = DecisionTree(self.X[ge_i], self.Y[ge_i], depth=depth + 1, maxdepth=maxdepth)\n",
        "\n",
        "      lt_i = np.where(self.X[:, self.attr] < self.threshold)[0]\n",
        "      \n",
        "      if len(lt_i) > 0:\n",
        "        self.lt = DecisionTree(self.X[lt_i], self.Y[lt_i], depth=depth + 1, maxdepth=maxdepth)\n",
        "\n",
        "      if len(lt_i) == 0:\n",
        "        self.lt = self.ge\n",
        "      elif len(ge_i) == 0:\n",
        "        self.ge = self.lt\n",
        "  \n",
        "  def predict(self, X):\n",
        "    if self.value != None:\n",
        "      return self.value\n",
        "    \n",
        "    if X[self.attr] >= self.threshold:\n",
        "      return self.ge.predict(X)\n",
        "    \n",
        "    return self.lt.predict(X)"
      ],
      "metadata": {
        "id": "UAYJEnbOTmh_"
      },
      "execution_count": null,
      "outputs": []
    },
    {
      "cell_type": "code",
      "source": [
        "X = np.array([[1, 1], [1, 0], [1, 1], [1, 0], [0, 1], [0, 0], [0, 1], [0, 0]])\n",
        "Y = np.array([1, 1, 1, 1, 1, 0, 0, 0])\n",
        "tree = DecisionTree(X, Y)\n",
        "(np.array([tree.predict(x) for x in X]) == Y).mean()"
      ],
      "metadata": {
        "colab": {
          "base_uri": "https://localhost:8080/"
        },
        "id": "cFafMz76VQt2",
        "outputId": "e44caba0-ff69-4326-c9ed-466136a61d10"
      },
      "execution_count": null,
      "outputs": [
        {
          "output_type": "execute_result",
          "data": {
            "text/plain": [
              "0.875"
            ]
          },
          "metadata": {},
          "execution_count": 91
        }
      ]
    },
    {
      "cell_type": "code",
      "source": [
        "def encode(X, Y):\n",
        "  for i in range(X.shape[1]):\n",
        "    unique = np.unique(X[:, i]).tolist()\n",
        "\n",
        "    for j in range(len(X)):\n",
        "      X[j, i] = unique.index(X[j, i])\n",
        "\n",
        "  unique = np.unique(Y).tolist()\n",
        "\n",
        "  for j in range(len(Y)):\n",
        "    Y[j] = unique.index(Y[j])\n",
        "\n",
        "encode(X_train, Y_train)\n",
        "encode(X_test, Y_test)\n",
        "print(X_train)\n",
        "print(Y_train)"
      ],
      "metadata": {
        "colab": {
          "base_uri": "https://localhost:8080/"
        },
        "id": "SIptNIRIe3VN",
        "outputId": "83ecc008-830f-4ed9-d533-f82fa93a63b5"
      },
      "execution_count": null,
      "outputs": [
        {
          "output_type": "stream",
          "name": "stdout",
          "text": [
            "[[2 0 4 ... 3 5 0]\n",
            " [5 3 9 ... 3 5 4]\n",
            " [5 3 4 ... 2 3 1]\n",
            " ...\n",
            " [2 0 4 ... 2 3 1]\n",
            " [5 0 9 ... 1 5 1]\n",
            " [5 0 3 ... 3 4 0]]\n",
            "[0 0 1 ... 0 1 0]\n"
          ]
        }
      ]
    },
    {
      "cell_type": "code",
      "source": [
        "model = DecisionTree(X_train, Y_train, maxdepth=16)"
      ],
      "metadata": {
        "id": "7DTZg4iMg3s9"
      },
      "execution_count": null,
      "outputs": []
    },
    {
      "cell_type": "code",
      "source": [
        "([model.predict(x) for x in X_test] == Y_test).mean()"
      ],
      "metadata": {
        "colab": {
          "base_uri": "https://localhost:8080/"
        },
        "id": "JuBGtfyQg8OH",
        "outputId": "93c6a974-4353-47d1-b30e-4a99604cb8be"
      },
      "execution_count": null,
      "outputs": [
        {
          "output_type": "execute_result",
          "data": {
            "text/plain": [
              "1.0"
            ]
          },
          "metadata": {},
          "execution_count": 102
        }
      ]
    }
  ]
}