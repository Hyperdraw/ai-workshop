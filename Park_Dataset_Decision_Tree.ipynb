{
  "nbformat": 4,
  "nbformat_minor": 0,
  "metadata": {
    "colab": {
      "name": "Park Dataset Decision Tree.ipynb",
      "provenance": []
    },
    "kernelspec": {
      "name": "python3",
      "display_name": "Python 3"
    },
    "language_info": {
      "name": "python"
    }
  },
  "cells": [
    {
      "cell_type": "code",
      "execution_count": 30,
      "metadata": {
        "id": "MXFhuQMPtk7C"
      },
      "outputs": [],
      "source": [
        "import math\n",
        "import numpy as np\n",
        "import pandas as pd\n",
        "from sklearn.tree import DecisionTreeClassifier, plot_tree\n",
        "from sklearn.ensemble import AdaBoostClassifier"
      ]
    },
    {
      "cell_type": "code",
      "source": [
        "X_train = pd.read_csv('park_train.data').to_numpy()\n",
        "X_test = pd.read_csv('park_test.data').to_numpy()\n",
        "Y_train = X_train[:, 0]\n",
        "X_train = X_train[:, 1:]\n",
        "Y_test = X_test[:, 0]\n",
        "X_test = X_test[:, 1:]\n",
        "print(X_train.shape, Y_train.shape, X_test.shape, Y_test.shape)"
      ],
      "metadata": {
        "colab": {
          "base_uri": "https://localhost:8080/"
        },
        "id": "D0JYYODjtv5F",
        "outputId": "99de1b09-df49-4093-866f-7432ba9832cb"
      },
      "execution_count": 31,
      "outputs": [
        {
          "output_type": "stream",
          "name": "stdout",
          "text": [
            "(77, 22) (77,) (58, 22) (58,)\n"
          ]
        }
      ]
    },
    {
      "cell_type": "code",
      "source": [
        "model = DecisionTreeClassifier(criterion='entropy')\n",
        "model.fit(X_train, Y_train)"
      ],
      "metadata": {
        "colab": {
          "base_uri": "https://localhost:8080/"
        },
        "id": "rudONqszuWhE",
        "outputId": "539336fd-4222-4c11-84db-926edb4937ff"
      },
      "execution_count": 32,
      "outputs": [
        {
          "output_type": "execute_result",
          "data": {
            "text/plain": [
              "DecisionTreeClassifier(criterion='entropy')"
            ]
          },
          "metadata": {},
          "execution_count": 32
        }
      ]
    },
    {
      "cell_type": "code",
      "source": [
        "model.score(X_test, Y_test)"
      ],
      "metadata": {
        "colab": {
          "base_uri": "https://localhost:8080/"
        },
        "id": "nFDYanK0ubbZ",
        "outputId": "35b572f8-573d-40e3-da17-86a56baa7078"
      },
      "execution_count": 33,
      "outputs": [
        {
          "output_type": "execute_result",
          "data": {
            "text/plain": [
              "0.7931034482758621"
            ]
          },
          "metadata": {},
          "execution_count": 33
        }
      ]
    },
    {
      "cell_type": "code",
      "source": [
        "plot_tree(model)"
      ],
      "metadata": {
        "colab": {
          "base_uri": "https://localhost:8080/",
          "height": 508
        },
        "id": "k2SCLWyPvaz1",
        "outputId": "edd7cf8c-5ee2-47cb-94fb-828595fb4c51"
      },
      "execution_count": 34,
      "outputs": [
        {
          "output_type": "execute_result",
          "data": {
            "text/plain": [
              "[Text(0.5555555555555556, 0.9285714285714286, 'X[11] <= 0.014\\nentropy = 0.762\\nsamples = 77\\nvalue = [17, 60]'),\n",
              " Text(0.4444444444444444, 0.7857142857142857, 'X[21] <= 0.107\\nentropy = 0.992\\nsamples = 38\\nvalue = [17, 21]'),\n",
              " Text(0.3333333333333333, 0.6428571428571429, 'entropy = 0.0\\nsamples = 8\\nvalue = [8, 0]'),\n",
              " Text(0.5555555555555556, 0.6428571428571429, 'X[1] <= 236.743\\nentropy = 0.881\\nsamples = 30\\nvalue = [9, 21]'),\n",
              " Text(0.3333333333333333, 0.5, 'X[20] <= 2.062\\nentropy = 0.722\\nsamples = 25\\nvalue = [5, 20]'),\n",
              " Text(0.2222222222222222, 0.35714285714285715, 'X[10] <= 0.007\\nentropy = 0.98\\nsamples = 12\\nvalue = [5, 7]'),\n",
              " Text(0.1111111111111111, 0.21428571428571427, 'entropy = 0.0\\nsamples = 4\\nvalue = [0, 4]'),\n",
              " Text(0.3333333333333333, 0.21428571428571427, 'X[20] <= 1.872\\nentropy = 0.954\\nsamples = 8\\nvalue = [5, 3]'),\n",
              " Text(0.2222222222222222, 0.07142857142857142, 'entropy = 0.0\\nsamples = 3\\nvalue = [0, 3]'),\n",
              " Text(0.4444444444444444, 0.07142857142857142, 'entropy = 0.0\\nsamples = 5\\nvalue = [5, 0]'),\n",
              " Text(0.4444444444444444, 0.35714285714285715, 'entropy = 0.0\\nsamples = 13\\nvalue = [0, 13]'),\n",
              " Text(0.7777777777777778, 0.5, 'X[2] <= 71.686\\nentropy = 0.722\\nsamples = 5\\nvalue = [4, 1]'),\n",
              " Text(0.6666666666666666, 0.35714285714285715, 'entropy = 0.0\\nsamples = 1\\nvalue = [0, 1]'),\n",
              " Text(0.8888888888888888, 0.35714285714285715, 'entropy = 0.0\\nsamples = 4\\nvalue = [4, 0]'),\n",
              " Text(0.6666666666666666, 0.7857142857142857, 'entropy = 0.0\\nsamples = 39\\nvalue = [0, 39]')]"
            ]
          },
          "metadata": {},
          "execution_count": 34
        },
        {
          "output_type": "display_data",
          "data": {
            "text/plain": [
              "<Figure size 432x288 with 1 Axes>"
            ],
            "image/png": "[encoded data removed]"
          },
          "metadata": {
            "needs_background": "light"
          }
        }
      ]
    },
    {
      "cell_type": "code",
      "source": [
        "model.get_depth()"
      ],
      "metadata": {
        "colab": {
          "base_uri": "https://localhost:8080/"
        },
        "id": "90C4rBElvmgY",
        "outputId": "d272e6fb-a8d1-46a8-e125-07b484ce83a9"
      },
      "execution_count": 35,
      "outputs": [
        {
          "output_type": "execute_result",
          "data": {
            "text/plain": [
              "6"
            ]
          },
          "metadata": {},
          "execution_count": 35
        }
      ]
    },
    {
      "cell_type": "code",
      "source": [
        "def H(X):\n",
        "  entropy = 0\n",
        "\n",
        "  for x in np.unique(X):\n",
        "    p = (X == x).sum() / len(X)\n",
        "\n",
        "    if p > 0:\n",
        "      entropy -= p * math.log(p)\n",
        "  \n",
        "  return entropy\n",
        "\n",
        "def condH(Y, X):\n",
        "  entropy = 0\n",
        "\n",
        "  for x in np.unique(X):\n",
        "    subset = Y[X == x]\n",
        "    s = 0\n",
        "\n",
        "    for y in np.unique(Y):\n",
        "      p = (subset == y).sum() / len(subset)\n",
        "\n",
        "      if p > 0:\n",
        "        s += p * math.log(p)\n",
        "    \n",
        "    entropy += s * (X == x).sum() / len(X)\n",
        "  \n",
        "  return -entropy\n",
        "\n",
        "def ig(Y, X):\n",
        "  return H(Y) - condH(Y, X)\n",
        "\n",
        "class DecisionTree:\n",
        "  def __init__(self, X, Y, depth=0, maxdepth=16):\n",
        "    self.value = None\n",
        "    self.X = X\n",
        "    self.Y = Y\n",
        "\n",
        "    if len(np.unique(self.Y)) == 1:\n",
        "      self.value = self.Y[0]\n",
        "    elif depth == maxdepth:\n",
        "      vals, counts = np.unique(self.Y, return_counts=True)\n",
        "      self.value = vals[np.argwhere(counts == np.max(counts))].flatten()[0]\n",
        "    else:\n",
        "      self.attr = None\n",
        "      best_ig = None\n",
        "\n",
        "      for i in range(self.X.shape[1]):\n",
        "        attr_ig = ig(self.Y, self.X[:, i])\n",
        "\n",
        "        if self.attr == None or attr_ig > best_ig:\n",
        "          self.attr = i\n",
        "          best_ig = attr_ig\n",
        "      \n",
        "      self.threshold = self.X[:, self.attr].mean()\n",
        "      ge_i = np.where(self.X[:, self.attr] >= self.threshold)[0]\n",
        "\n",
        "      if len(ge_i) > 0:\n",
        "        self.ge = DecisionTree(self.X[ge_i], self.Y[ge_i], depth=depth + 1, maxdepth=maxdepth)\n",
        "\n",
        "      lt_i = np.where(self.X[:, self.attr] < self.threshold)[0]\n",
        "      \n",
        "      if len(lt_i) > 0:\n",
        "        self.lt = DecisionTree(self.X[lt_i], self.Y[lt_i], depth=depth + 1, maxdepth=maxdepth)\n",
        "\n",
        "      if len(lt_i) == 0:\n",
        "        self.lt = self.ge\n",
        "      elif len(ge_i) == 0:\n",
        "        self.ge = self.lt\n",
        "  \n",
        "  def predict(self, X):\n",
        "    if self.value != None:\n",
        "      return self.value\n",
        "    \n",
        "    if X[self.attr] >= self.threshold:\n",
        "      return self.ge.predict(X)\n",
        "    \n",
        "    return self.lt.predict(X)"
      ],
      "metadata": {
        "id": "ir9PgbwMwCpK"
      },
      "execution_count": 36,
      "outputs": []
    },
    {
      "cell_type": "code",
      "source": [
        "tree = DecisionTree(X_train, Y_train)"
      ],
      "metadata": {
        "id": "3svX--7dwL6C"
      },
      "execution_count": 37,
      "outputs": []
    },
    {
      "cell_type": "code",
      "source": [
        "(np.array([tree.predict(x) for x in X_test]) == Y_test).mean()"
      ],
      "metadata": {
        "colab": {
          "base_uri": "https://localhost:8080/"
        },
        "id": "dbDscYGvwZp0",
        "outputId": "7efd9d99-f634-4a69-ad2f-30ca3dba5cd0"
      },
      "execution_count": 38,
      "outputs": [
        {
          "output_type": "execute_result",
          "data": {
            "text/plain": [
              "0.7241379310344828"
            ]
          },
          "metadata": {},
          "execution_count": 38
        }
      ]
    },
    {
      "cell_type": "code",
      "source": [
        "ada_model = AdaBoostClassifier(n_estimators=256)\n",
        "ada_model.fit(X_train, Y_train)"
      ],
      "metadata": {
        "colab": {
          "base_uri": "https://localhost:8080/"
        },
        "id": "nFL7VHHlxEHq",
        "outputId": "76777364-6edb-4af1-cec2-b0e33b97f29e"
      },
      "execution_count": 39,
      "outputs": [
        {
          "output_type": "execute_result",
          "data": {
            "text/plain": [
              "AdaBoostClassifier(n_estimators=256)"
            ]
          },
          "metadata": {},
          "execution_count": 39
        }
      ]
    },
    {
      "cell_type": "code",
      "source": [
        "ada_model.score(X_test, Y_test)"
      ],
      "metadata": {
        "colab": {
          "base_uri": "https://localhost:8080/"
        },
        "id": "Mm6Zv6NnxK8e",
        "outputId": "4c1f6982-7672-4007-85bd-7c75b302599e"
      },
      "execution_count": 40,
      "outputs": [
        {
          "output_type": "execute_result",
          "data": {
            "text/plain": [
              "0.8448275862068966"
            ]
          },
          "metadata": {},
          "execution_count": 40
        }
      ]
    }
  ]
}