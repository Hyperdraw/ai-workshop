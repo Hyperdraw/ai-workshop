{
  "nbformat": 4,
  "nbformat_minor": 0,
  "metadata": {
    "colab": {
      "name": "X-Y-DataSet.ipynb",
      "provenance": [],
      "authorship_tag": "ABX9TyM+PPGQF+S23+zLJ+5CYhNV"
    },
    "kernelspec": {
      "name": "python3",
      "display_name": "Python 3"
    },
    "language_info": {
      "name": "python"
    }
  },
  "cells": [
    {
      "cell_type": "code",
      "execution_count": null,
      "metadata": {
        "id": "csmxLiThTXe_"
      },
      "outputs": [],
      "source": [
        "import numpy as np\n",
        "import matplotlib.pyplot as plt\n",
        "from tensorflow import keras\n",
        "from sklearn.preprocessing import minmax_scale\n",
        "from tensorflow.keras.utils import to_categorical\n",
        "from sklearn.model_selection import train_test_split"
      ]
    },
    {
      "cell_type": "code",
      "source": [
        "X = np.load('X.npy')\n",
        "Y = np.load('y.npy')\n",
        "print(X.shape, Y.shape)"
      ],
      "metadata": {
        "colab": {
          "base_uri": "https://localhost:8080/"
        },
        "id": "tbQqf4GRT9gt",
        "outputId": "794e5542-0e77-481c-86c3-07a9145b1f0a"
      },
      "execution_count": null,
      "outputs": [
        {
          "output_type": "stream",
          "name": "stdout",
          "text": [
            "(5000, 400) (5000, 1)\n"
          ]
        }
      ]
    },
    {
      "cell_type": "code",
      "source": [
        "Y = to_categorical(Y)\n",
        "print(Y.shape)"
      ],
      "metadata": {
        "colab": {
          "base_uri": "https://localhost:8080/"
        },
        "id": "5uq98OB-WMwJ",
        "outputId": "cd6cd4f8-2bf8-4e18-e6f7-725f8c92b920"
      },
      "execution_count": null,
      "outputs": [
        {
          "output_type": "stream",
          "name": "stdout",
          "text": [
            "(5000, 10)\n"
          ]
        }
      ]
    },
    {
      "cell_type": "code",
      "source": [
        "X = minmax_scale(X)"
      ],
      "metadata": {
        "id": "e9G3RBr3VVkr"
      },
      "execution_count": null,
      "outputs": []
    },
    {
      "cell_type": "code",
      "source": [
        "X_train, X_test, Y_train, Y_test = train_test_split(X, Y)"
      ],
      "metadata": {
        "id": "jgPsfONuZI7k"
      },
      "execution_count": null,
      "outputs": []
    },
    {
      "cell_type": "code",
      "source": [
        "model = keras.Sequential()\n",
        "\n",
        "for i in range(8):\n",
        "  model.add(keras.layers.Dense(32, activation='relu'))\n",
        "\n",
        "model.add(keras.layers.Dense(10, activation='softmax'))\n",
        "model.compile(loss='categorical_crossentropy', optimizer='adam', metrics=['accuracy'])"
      ],
      "metadata": {
        "id": "NtEyI-jJUIgS"
      },
      "execution_count": null,
      "outputs": []
    },
    {
      "cell_type": "code",
      "source": [
        "model.fit(X_train, Y_train, epochs=32)"
      ],
      "metadata": {
        "colab": {
          "base_uri": "https://localhost:8080/"
        },
        "id": "aFaHuEhDUxZ0",
        "outputId": "4e9faa98-f4c6-479b-bfd4-8e3799341624"
      },
      "execution_count": null,
      "outputs": [
        {
          "output_type": "stream",
          "name": "stdout",
          "text": [
            "Epoch 1/32\n",
            "118/118 [==============================] - 1s 2ms/step - loss: 1.7859 - accuracy: 0.3424\n",
            "Epoch 2/32\n",
            "118/118 [==============================] - 0s 3ms/step - loss: 0.9849 - accuracy: 0.6613\n",
            "Epoch 3/32\n",
            "118/118 [==============================] - 0s 2ms/step - loss: 0.6527 - accuracy: 0.7941\n",
            "Epoch 4/32\n",
            "118/118 [==============================] - 0s 3ms/step - loss: 0.5261 - accuracy: 0.8416\n",
            "Epoch 5/32\n",
            "118/118 [==============================] - 0s 3ms/step - loss: 0.4310 - accuracy: 0.8661\n",
            "Epoch 6/32\n",
            "118/118 [==============================] - 0s 2ms/step - loss: 0.3819 - accuracy: 0.8843\n",
            "Epoch 7/32\n",
            "118/118 [==============================] - 0s 2ms/step - loss: 0.3524 - accuracy: 0.8909\n",
            "Epoch 8/32\n",
            "118/118 [==============================] - 0s 3ms/step - loss: 0.2986 - accuracy: 0.9107\n",
            "Epoch 9/32\n",
            "118/118 [==============================] - 0s 2ms/step - loss: 0.2823 - accuracy: 0.9155\n",
            "Epoch 10/32\n",
            "118/118 [==============================] - 0s 2ms/step - loss: 0.2837 - accuracy: 0.9128\n",
            "Epoch 11/32\n",
            "118/118 [==============================] - 0s 2ms/step - loss: 0.2417 - accuracy: 0.9224\n",
            "Epoch 12/32\n",
            "118/118 [==============================] - 0s 3ms/step - loss: 0.2250 - accuracy: 0.9293\n",
            "Epoch 13/32\n",
            "118/118 [==============================] - 0s 2ms/step - loss: 0.2118 - accuracy: 0.9315\n",
            "Epoch 14/32\n",
            "118/118 [==============================] - 0s 2ms/step - loss: 0.1895 - accuracy: 0.9387\n",
            "Epoch 15/32\n",
            "118/118 [==============================] - 0s 2ms/step - loss: 0.1759 - accuracy: 0.9483\n",
            "Epoch 16/32\n",
            "118/118 [==============================] - 0s 2ms/step - loss: 0.1515 - accuracy: 0.9539\n",
            "Epoch 17/32\n",
            "118/118 [==============================] - 0s 2ms/step - loss: 0.1463 - accuracy: 0.9547\n",
            "Epoch 18/32\n",
            "118/118 [==============================] - 0s 2ms/step - loss: 0.1394 - accuracy: 0.9573\n",
            "Epoch 19/32\n",
            "118/118 [==============================] - 0s 2ms/step - loss: 0.1343 - accuracy: 0.9579\n",
            "Epoch 20/32\n",
            "118/118 [==============================] - 0s 2ms/step - loss: 0.1223 - accuracy: 0.9592\n",
            "Epoch 21/32\n",
            "118/118 [==============================] - 0s 2ms/step - loss: 0.1333 - accuracy: 0.9595\n",
            "Epoch 22/32\n",
            "118/118 [==============================] - 0s 2ms/step - loss: 0.1203 - accuracy: 0.9635\n",
            "Epoch 23/32\n",
            "118/118 [==============================] - 0s 2ms/step - loss: 0.1129 - accuracy: 0.9648\n",
            "Epoch 24/32\n",
            "118/118 [==============================] - 0s 2ms/step - loss: 0.0908 - accuracy: 0.9720\n",
            "Epoch 25/32\n",
            "118/118 [==============================] - 0s 2ms/step - loss: 0.0935 - accuracy: 0.9699\n",
            "Epoch 26/32\n",
            "118/118 [==============================] - 0s 2ms/step - loss: 0.0796 - accuracy: 0.9768\n",
            "Epoch 27/32\n",
            "118/118 [==============================] - 0s 2ms/step - loss: 0.0925 - accuracy: 0.9723\n",
            "Epoch 28/32\n",
            "118/118 [==============================] - 0s 2ms/step - loss: 0.0776 - accuracy: 0.9771\n",
            "Epoch 29/32\n",
            "118/118 [==============================] - 0s 3ms/step - loss: 0.0638 - accuracy: 0.9795\n",
            "Epoch 30/32\n",
            "118/118 [==============================] - 0s 2ms/step - loss: 0.0746 - accuracy: 0.9765\n",
            "Epoch 31/32\n",
            "118/118 [==============================] - 0s 2ms/step - loss: 0.0875 - accuracy: 0.9709\n",
            "Epoch 32/32\n",
            "118/118 [==============================] - 0s 2ms/step - loss: 0.0597 - accuracy: 0.9800\n"
          ]
        },
        {
          "output_type": "execute_result",
          "data": {
            "text/plain": [
              "<keras.callbacks.History at 0x7f966054d950>"
            ]
          },
          "metadata": {},
          "execution_count": 49
        }
      ]
    },
    {
      "cell_type": "code",
      "source": [
        "print(model.metrics_names)\n",
        "model.evaluate(X_test, Y_test)"
      ],
      "metadata": {
        "colab": {
          "base_uri": "https://localhost:8080/"
        },
        "id": "xQkLHgNpZWim",
        "outputId": "f24c31d5-3fcb-405a-a20b-a2c3e54704e7"
      },
      "execution_count": null,
      "outputs": [
        {
          "output_type": "stream",
          "name": "stdout",
          "text": [
            "['loss', 'accuracy']\n",
            "40/40 [==============================] - 0s 2ms/step - loss: 0.4706 - accuracy: 0.9056\n"
          ]
        },
        {
          "output_type": "execute_result",
          "data": {
            "text/plain": [
              "[0.4706268012523651, 0.9056000113487244]"
            ]
          },
          "metadata": {},
          "execution_count": 50
        }
      ]
    },
    {
      "cell_type": "code",
      "source": [
        "original_Y = np.load('y.npy')\n",
        "X = X.reshape(X.shape[0], 20, 20)\n",
        "n = 7\n",
        "\n",
        "for i in range(len(original_Y)):\n",
        "  if original_Y[i][0] == n and np.argmax(model.predict(np.array([X[i].reshape(400)]))[0]) != original_Y[i]:\n",
        "    print(np.argmax(model.predict(np.array([X[i].reshape(400)]))[0]))\n",
        "    plt.imshow(X[i].transpose(), cmap='gray')\n",
        "    break"
      ],
      "metadata": {
        "colab": {
          "base_uri": "https://localhost:8080/",
          "height": 282
        },
        "id": "rDMVU47rftE8",
        "outputId": "8993fe3f-c79d-41f4-c936-621382379a35"
      },
      "execution_count": null,
      "outputs": [
        {
          "output_type": "stream",
          "name": "stdout",
          "text": [
            "9\n"
          ]
        },
        {
          "output_type": "display_data",
          "data": {
            "text/plain": [
              "<Figure size 432x288 with 1 Axes>"
            ],
            "image/png": "[encoded data removed]"
          },
          "metadata": {
            "needs_background": "light"
          }
        }
      ]
    },
    {
      "cell_type": "code",
      "source": [
        ""
      ],
      "metadata": {
        "id": "arghrzVPhAPM"
      },
      "execution_count": null,
      "outputs": []
    }
  ]
}