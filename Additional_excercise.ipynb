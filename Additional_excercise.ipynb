{
  "cells": [
    {
      "cell_type": "code",
      "execution_count": 13,
      "metadata": {
        "colab": {
          "base_uri": "https://localhost:8080/"
        },
        "id": "iC2ugqMAj6Ug",
        "outputId": "baef9fc1-b384-4b43-dded-cbf8bb892a6f"
      },
      "outputs": [
        {
          "name": "stdout",
          "output_type": "stream",
          "text": [
            "4\n"
          ]
        }
      ],
      "source": [
        "import numpy as np\n",
        "\n",
        "a = np.array([[1,2,3],[4,5,6]])\n",
        "b = a.flat[3]\n",
        "print(b)"
      ]
    },
    {
      "cell_type": "markdown",
      "metadata": {
        "id": "q_UqDkVIXeTN"
      },
      "source": [
        "![purple-divider](https://user-images.githubusercontent.com/7065401/52071927-c1cd7100-2562-11e9-908a-dde91ba14e59.png)\n",
        "\n",
        "## Additional excercise"
      ]
    },
    {
      "cell_type": "markdown",
      "metadata": {
        "id": "be3WDfCJXeTO"
      },
      "source": [
        "###Create a 2d array, sort the array by a given row"
      ]
    },
    {
      "cell_type": "markdown",
      "metadata": {
        "id": "8EtGowGMl8ys"
      },
      "source": []
    },
    {
      "cell_type": "code",
      "execution_count": 23,
      "metadata": {
        "id": "1RwJeLQjXeTW"
      },
      "outputs": [
        {
          "name": "stdout",
          "output_type": "stream",
          "text": [
            "[[1 3 2]\n",
            " [6 7 9]\n",
            " [3 1 2]]\n"
          ]
        }
      ],
      "source": [
        "# your code goes here\n",
        "arr = np.array([\n",
        "    [1, 2, 3],\n",
        "    [6, 9, 7],\n",
        "    [3, 2, 1]\n",
        "])\n",
        "print(arr[:, arr[1].argsort()])"
      ]
    },
    {
      "cell_type": "markdown",
      "metadata": {
        "id": "Ryv0tvKKXeTW"
      },
      "source": [
        "![green-divider](https://user-images.githubusercontent.com/7065401/52071924-c003ad80-2562-11e9-8297-1c6595f8a7ff.png)\n",
        "\n",
        "### Delete a particular row from an array"
      ]
    },
    {
      "cell_type": "code",
      "execution_count": 9,
      "metadata": {
        "id": "7APa07zZXeTW"
      },
      "outputs": [
        {
          "name": "stdout",
          "output_type": "stream",
          "text": [
            "[[4 5 6]]\n"
          ]
        }
      ],
      "source": [
        "# your code goes here\n",
        "a = a[1:]\n",
        "print(a)"
      ]
    },
    {
      "cell_type": "markdown",
      "metadata": {
        "id": "kSH6yTghXeTX"
      },
      "source": [
        "![green-divider](https://user-images.githubusercontent.com/7065401/52071924-c003ad80-2562-11e9-8297-1c6595f8a7ff.png)\n",
        "\n",
        "### Create a 5 by 5 matrix and print the values 1,2,3,4 just below the diagnol"
      ]
    },
    {
      "cell_type": "code",
      "execution_count": 12,
      "metadata": {
        "id": "1tktFBbqXeTX"
      },
      "outputs": [
        {
          "name": "stdout",
          "output_type": "stream",
          "text": [
            "[1 2 3 4]\n"
          ]
        }
      ],
      "source": [
        "\n",
        "\n",
        "x = np.array([[0, 0, 0, 0, 0],\n",
        "       [1, 0, 0, 0, 0],\n",
        "       [0, 2, 0, 0, 0],\n",
        "       [0, 0, 3, 0, 0],\n",
        "       [0, 0, 0, 4, 0]])\n",
        "\n",
        "# your code goes here\n",
        "print(x[1:].diagonal())"
      ]
    },
    {
      "cell_type": "markdown",
      "metadata": {
        "id": "CtFW_VxIlH4j"
      },
      "source": [
        "![purple-divider](https://user-images.githubusercontent.com/7065401/52071927-c1cd7100-2562-11e9-908a-dde91ba14e59.png)\n",
        "\n"
      ]
    }
  ],
  "metadata": {
    "colab": {
      "name": "Additional excercise.ipynb",
      "provenance": []
    },
    "kernelspec": {
      "display_name": "Python 3.10.4 64-bit",
      "language": "python",
      "name": "python3"
    },
    "language_info": {
      "codemirror_mode": {
        "name": "ipython",
        "version": 3
      },
      "file_extension": ".py",
      "mimetype": "text/x-python",
      "name": "python",
      "nbconvert_exporter": "python",
      "pygments_lexer": "ipython3",
      "version": "3.10.4"
    },
    "vscode": {
      "interpreter": {
        "hash": "916dbcbb3f70747c44a77c7bcd40155683ae19c65e1c03b4aa3499c5328201f1"
      }
    }
  },
  "nbformat": 4,
  "nbformat_minor": 0
}
