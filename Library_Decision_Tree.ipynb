{
  "nbformat": 4,
  "nbformat_minor": 0,
  "metadata": {
    "colab": {
      "name": "Library Decision Tree.ipynb",
      "provenance": []
    },
    "kernelspec": {
      "name": "python3",
      "display_name": "Python 3"
    },
    "language_info": {
      "name": "python"
    }
  },
  "cells": [
    {
      "cell_type": "code",
      "execution_count": 5,
      "metadata": {
        "id": "HYAoZs0JMmOo"
      },
      "outputs": [],
      "source": [
        "import pandas as pd\n",
        "from sklearn.preprocessing import LabelEncoder\n",
        "from sklearn.tree import DecisionTreeClassifier"
      ]
    },
    {
      "cell_type": "code",
      "source": [
        "mush_train = pd.read_csv('mush_train.data').to_numpy()\n",
        "mush_test = pd.read_csv('mush_test.data').to_numpy()\n",
        "X_train = mush_train[:, 1:]\n",
        "Y_train = mush_train[:, 0]\n",
        "X_test = mush_test[:, 1:]\n",
        "Y_test = mush_test[:, 0]\n",
        "print(X_train.shape, Y_train.shape, X_test.shape, Y_test.shape)"
      ],
      "metadata": {
        "colab": {
          "base_uri": "https://localhost:8080/"
        },
        "id": "SUZLVTpaM1bC",
        "outputId": "40431299-381f-4755-e239-a542adc18d35"
      },
      "execution_count": 2,
      "outputs": [
        {
          "output_type": "stream",
          "name": "stdout",
          "text": [
            "(4711, 22) (4711,) (3411, 22) (3411,)\n"
          ]
        }
      ]
    },
    {
      "cell_type": "code",
      "source": [
        "for col in range(X_train.shape[1]):\n",
        "  encoder = LabelEncoder()\n",
        "  encoder.fit(X_train[:, col])\n",
        "  X_train[:, col] = encoder.transform(X_train[:, col])\n",
        "  X_test[:, col] = encoder.transform(X_test[:, col])\n",
        "\n",
        "encoder = LabelEncoder()\n",
        "encoder.fit(Y_train)\n",
        "Y_train = encoder.transform(Y_train)\n",
        "Y_test = encoder.transform(Y_test)"
      ],
      "metadata": {
        "id": "9LrURyYjNmzB"
      },
      "execution_count": 6,
      "outputs": []
    },
    {
      "cell_type": "code",
      "source": [
        "model = DecisionTreeClassifier()\n",
        "model.fit(X_train, Y_train)"
      ],
      "metadata": {
        "colab": {
          "base_uri": "https://localhost:8080/"
        },
        "id": "sRIApbXUNf67",
        "outputId": "2cb76f6f-e23f-4b43-90ef-83189fbdd320"
      },
      "execution_count": 7,
      "outputs": [
        {
          "output_type": "execute_result",
          "data": {
            "text/plain": [
              "DecisionTreeClassifier()"
            ]
          },
          "metadata": {},
          "execution_count": 7
        }
      ]
    },
    {
      "cell_type": "code",
      "source": [
        "model.score(X_test, Y_test)"
      ],
      "metadata": {
        "colab": {
          "base_uri": "https://localhost:8080/"
        },
        "id": "nO38oJgcOucQ",
        "outputId": "dd03e7b0-68dd-40dc-e521-8b76121ea396"
      },
      "execution_count": 8,
      "outputs": [
        {
          "output_type": "execute_result",
          "data": {
            "text/plain": [
              "1.0"
            ]
          },
          "metadata": {},
          "execution_count": 8
        }
      ]
    }
  ]
}