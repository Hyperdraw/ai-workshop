{
  "nbformat": 4,
  "nbformat_minor": 0,
  "metadata": {
    "colab": {
      "name": "Perceptron.ipynb",
      "provenance": [],
      "collapsed_sections": []
    },
    "kernelspec": {
      "name": "python3",
      "display_name": "Python 3"
    },
    "language_info": {
      "name": "python"
    }
  },
  "cells": [
    {
      "cell_type": "code",
      "execution_count": null,
      "metadata": {
        "id": "t_siIdFclL-s"
      },
      "outputs": [],
      "source": [
        "import numpy as np\n",
        "import pandas as pd"
      ]
    },
    {
      "cell_type": "code",
      "source": [
        "df = pd.read_csv('perceptron.data', header=None)\n",
        "df.head()"
      ],
      "metadata": {
        "colab": {
          "base_uri": "https://localhost:8080/",
          "height": 206
        },
        "id": "4efbHGVrlTuA",
        "outputId": "5ebb0b61-b27e-4139-fa68-87cf8b15bae5"
      },
      "execution_count": null,
      "outputs": [
        {
          "output_type": "execute_result",
          "data": {
            "text/plain": [
              "          0         1         2         3  4\n",
              "0 -4.617544 -2.469679 -1.967661  1.813356 -1\n",
              "1 -1.110969 -2.592820  1.149165  0.572509 -1\n",
              "2  1.164321  2.300245 -0.660355  2.833743 -1\n",
              "3 -2.518213 -3.619048  1.673304  0.030407 -1\n",
              "4  4.821442  2.037048  2.348538 -1.683379  1"
            ],
            "text/html": [
              "\n",
              "  <div id=\"df-e26e355b-b6e6-4350-b658-347556479ce3\">\n",
              "    <div class=\"colab-df-container\">\n",
              "      <div>\n",
              "<style scoped>\n",
              "    .dataframe tbody tr th:only-of-type {\n",
              "        vertical-align: middle;\n",
              "    }\n",
              "\n",
              "    .dataframe tbody tr th {\n",
              "        vertical-align: top;\n",
              "    }\n",
              "\n",
              "    .dataframe thead th {\n",
              "        text-align: right;\n",
              "    }\n",
              "</style>\n",
              "<table border=\"1\" class=\"dataframe\">\n",
              "  <thead>\n",
              "    <tr style=\"text-align: right;\">\n",
              "      <th></th>\n",
              "      <th>0</th>\n",
              "      <th>1</th>\n",
              "      <th>2</th>\n",
              "      <th>3</th>\n",
              "      <th>4</th>\n",
              "    </tr>\n",
              "  </thead>\n",
              "  <tbody>\n",
              "    <tr>\n",
              "      <th>0</th>\n",
              "      <td>-4.617544</td>\n",
              "      <td>-2.469679</td>\n",
              "      <td>-1.967661</td>\n",
              "      <td>1.813356</td>\n",
              "      <td>-1</td>\n",
              "    </tr>\n",
              "    <tr>\n",
              "      <th>1</th>\n",
              "      <td>-1.110969</td>\n",
              "      <td>-2.592820</td>\n",
              "      <td>1.149165</td>\n",
              "      <td>0.572509</td>\n",
              "      <td>-1</td>\n",
              "    </tr>\n",
              "    <tr>\n",
              "      <th>2</th>\n",
              "      <td>1.164321</td>\n",
              "      <td>2.300245</td>\n",
              "      <td>-0.660355</td>\n",
              "      <td>2.833743</td>\n",
              "      <td>-1</td>\n",
              "    </tr>\n",
              "    <tr>\n",
              "      <th>3</th>\n",
              "      <td>-2.518213</td>\n",
              "      <td>-3.619048</td>\n",
              "      <td>1.673304</td>\n",
              "      <td>0.030407</td>\n",
              "      <td>-1</td>\n",
              "    </tr>\n",
              "    <tr>\n",
              "      <th>4</th>\n",
              "      <td>4.821442</td>\n",
              "      <td>2.037048</td>\n",
              "      <td>2.348538</td>\n",
              "      <td>-1.683379</td>\n",
              "      <td>1</td>\n",
              "    </tr>\n",
              "  </tbody>\n",
              "</table>\n",
              "</div>\n",
              "      <button class=\"colab-df-convert\" onclick=\"convertToInteractive('df-e26e355b-b6e6-4350-b658-347556479ce3')\"\n",
              "              title=\"Convert this dataframe to an interactive table.\"\n",
              "              style=\"display:none;\">\n",
              "        \n",
              "  <svg xmlns=\"http://www.w3.org/2000/svg\" height=\"24px\"viewBox=\"0 0 24 24\"\n",
              "       width=\"24px\">\n",
              "    <path d=\"M0 0h24v24H0V0z\" fill=\"none\"/>\n",
              "    <path d=\"M18.56 5.44l.94 2.06.94-2.06 2.06-.94-2.06-.94-.94-2.06-.94 2.06-2.06.94zm-11 1L8.5 8.5l.94-2.06 2.06-.94-2.06-.94L8.5 2.5l-.94 2.06-2.06.94zm10 10l.94 2.06.94-2.06 2.06-.94-2.06-.94-.94-2.06-.94 2.06-2.06.94z\"/><path d=\"M17.41 7.96l-1.37-1.37c-.4-.4-.92-.59-1.43-.59-.52 0-1.04.2-1.43.59L10.3 9.45l-7.72 7.72c-.78.78-.78 2.05 0 2.83L4 21.41c.39.39.9.59 1.41.59.51 0 1.02-.2 1.41-.59l7.78-7.78 2.81-2.81c.8-.78.8-2.07 0-2.86zM5.41 20L4 18.59l7.72-7.72 1.47 1.35L5.41 20z\"/>\n",
              "  </svg>\n",
              "      </button>\n",
              "      \n",
              "  <style>\n",
              "    .colab-df-container {\n",
              "      display:flex;\n",
              "      flex-wrap:wrap;\n",
              "      gap: 12px;\n",
              "    }\n",
              "\n",
              "    .colab-df-convert {\n",
              "      background-color: #E8F0FE;\n",
              "      border: none;\n",
              "      border-radius: 50%;\n",
              "      cursor: pointer;\n",
              "      display: none;\n",
              "      fill: #1967D2;\n",
              "      height: 32px;\n",
              "      padding: 0 0 0 0;\n",
              "      width: 32px;\n",
              "    }\n",
              "\n",
              "    .colab-df-convert:hover {\n",
              "      background-color: #E2EBFA;\n",
              "      box-shadow: 0px 1px 2px rgba(60, 64, 67, 0.3), 0px 1px 3px 1px rgba(60, 64, 67, 0.15);\n",
              "      fill: #174EA6;\n",
              "    }\n",
              "\n",
              "    [theme=dark] .colab-df-convert {\n",
              "      background-color: #3B4455;\n",
              "      fill: #D2E3FC;\n",
              "    }\n",
              "\n",
              "    [theme=dark] .colab-df-convert:hover {\n",
              "      background-color: #434B5C;\n",
              "      box-shadow: 0px 1px 3px 1px rgba(0, 0, 0, 0.15);\n",
              "      filter: drop-shadow(0px 1px 2px rgba(0, 0, 0, 0.3));\n",
              "      fill: #FFFFFF;\n",
              "    }\n",
              "  </style>\n",
              "\n",
              "      <script>\n",
              "        const buttonEl =\n",
              "          document.querySelector('#df-e26e355b-b6e6-4350-b658-347556479ce3 button.colab-df-convert');\n",
              "        buttonEl.style.display =\n",
              "          google.colab.kernel.accessAllowed ? 'block' : 'none';\n",
              "\n",
              "        async function convertToInteractive(key) {\n",
              "          const element = document.querySelector('#df-e26e355b-b6e6-4350-b658-347556479ce3');\n",
              "          const dataTable =\n",
              "            await google.colab.kernel.invokeFunction('convertToInteractive',\n",
              "                                                     [key], {});\n",
              "          if (!dataTable) return;\n",
              "\n",
              "          const docLinkHtml = 'Like what you see? Visit the ' +\n",
              "            '<a target=\"_blank\" href=https://colab.research.google.com/notebooks/data_table.ipynb>data table notebook</a>'\n",
              "            + ' to learn more about interactive tables.';\n",
              "          element.innerHTML = '';\n",
              "          dataTable['output_type'] = 'display_data';\n",
              "          await google.colab.output.renderOutput(dataTable, element);\n",
              "          const docLink = document.createElement('div');\n",
              "          docLink.innerHTML = docLinkHtml;\n",
              "          element.appendChild(docLink);\n",
              "        }\n",
              "      </script>\n",
              "    </div>\n",
              "  </div>\n",
              "  "
            ]
          },
          "metadata": {},
          "execution_count": 44
        }
      ]
    },
    {
      "cell_type": "code",
      "source": [
        "target = df[4]\n",
        "df.drop(4, axis='columns', inplace=True)\n",
        "X = df.to_numpy()\n",
        "Y = target.to_numpy()\n",
        "Y = Y.reshape((Y.shape[0], 1))\n",
        "print(X.shape, Y.shape)"
      ],
      "metadata": {
        "colab": {
          "base_uri": "https://localhost:8080/"
        },
        "id": "VGHtuf78ljGq",
        "outputId": "47a8f856-2739-4ab1-83f5-bcb7b670d906"
      },
      "execution_count": null,
      "outputs": [
        {
          "output_type": "stream",
          "name": "stdout",
          "text": [
            "(1000, 4) (1000, 1)\n"
          ]
        }
      ]
    },
    {
      "cell_type": "code",
      "source": [
        "from sklearn.model_selection import train_test_split\n",
        "\n",
        "X_train, X_test, Y_train, Y_test = train_test_split(X, Y, test_size=50)\n",
        "print(X_train.shape, X_test.shape, Y_train.shape, Y_test.shape)"
      ],
      "metadata": {
        "colab": {
          "base_uri": "https://localhost:8080/"
        },
        "id": "x298UHkpl4sm",
        "outputId": "0697fb7f-fd3a-40b8-f48a-93cf819a7b8c"
      },
      "execution_count": null,
      "outputs": [
        {
          "output_type": "stream",
          "name": "stdout",
          "text": [
            "(950, 4) (50, 4) (950, 1) (50, 1)\n"
          ]
        }
      ]
    },
    {
      "cell_type": "code",
      "source": [
        "from sklearn.linear_model import LogisticRegression\n",
        "\n",
        "model = LogisticRegression()\n",
        "model.fit(X_train, Y_train)\n",
        "print(model.score(X_test, Y_test))"
      ],
      "metadata": {
        "colab": {
          "base_uri": "https://localhost:8080/"
        },
        "id": "Zb3BtRnnmUcL",
        "outputId": "42c55c7a-3475-4048-d87e-9fae0922b9d6"
      },
      "execution_count": null,
      "outputs": [
        {
          "output_type": "stream",
          "name": "stdout",
          "text": [
            "1.0\n"
          ]
        },
        {
          "output_type": "stream",
          "name": "stderr",
          "text": [
            "/usr/local/lib/python3.7/dist-packages/sklearn/utils/validation.py:993: DataConversionWarning: A column-vector y was passed when a 1d array was expected. Please change the shape of y to (n_samples, ), for example using ravel().\n",
            "  y = column_or_1d(y, warn=True)\n"
          ]
        }
      ]
    },
    {
      "cell_type": "code",
      "source": [
        "import brain\n",
        "params = np.zeros(X.shape[1] + 1)\n",
        "brain.gradient_descent(X_train, Y_train, brain.dense, 1, brain.perceptron, params, iterations=10000, learning_rate=0.0001)"
      ],
      "metadata": {
        "colab": {
          "base_uri": "https://localhost:8080/"
        },
        "id": "CifG4UU7tNFn",
        "outputId": "a8ede689-db35-4246-e383-147587d69db9"
      },
      "execution_count": null,
      "outputs": [
        {
          "output_type": "stream",
          "name": "stdout",
          "text": [
            "Iteration: 0, Loss: 9.373599493621095e-06\n",
            "Iteration: 100, Loss: 8.272921303360956e-08\n",
            "Iteration: 200, Loss: 4.2419845619480235e-09\n",
            "Iteration: 300, Loss: 5.587000031331988e-09\n",
            "Iteration: 400, Loss: 5.808791092966741e-09\n",
            "Iteration: 500, Loss: 5.867393110725236e-09\n",
            "Iteration: 600, Loss: 5.825372071568948e-09\n",
            "Iteration: 700, Loss: 5.832972419761664e-09\n",
            "Iteration: 800, Loss: 5.8364711343687255e-09\n",
            "Iteration: 900, Loss: 5.833902778976682e-09\n",
            "Iteration: 1000, Loss: 5.834380203280885e-09\n",
            "Iteration: 1100, Loss: 5.8345889294197285e-09\n",
            "Iteration: 1200, Loss: 5.83443198380711e-09\n",
            "Iteration: 1300, Loss: 5.8344619445286845e-09\n",
            "Iteration: 1400, Loss: 5.834474386858324e-09\n",
            "Iteration: 1500, Loss: 5.834464798394931e-09\n",
            "Iteration: 1600, Loss: 5.834466676841959e-09\n",
            "Iteration: 1700, Loss: 5.83446741792269e-09\n",
            "Iteration: 1800, Loss: 5.834466832250899e-09\n",
            "Iteration: 1900, Loss: 5.834466949920887e-09\n",
            "Iteration: 2000, Loss: 5.834466994021852e-09\n",
            "Iteration: 2100, Loss: 5.834466958256034e-09\n",
            "Iteration: 2200, Loss: 5.834466965621618e-09\n",
            "Iteration: 2300, Loss: 5.834466968243034e-09\n",
            "Iteration: 2400, Loss: 5.834466966059622e-09\n",
            "Iteration: 2500, Loss: 5.8344669665203936e-09\n",
            "Iteration: 2600, Loss: 5.834466966675933e-09\n",
            "Iteration: 2700, Loss: 5.834466966542463e-09\n",
            "Iteration: 2800, Loss: 5.834466966572107e-09\n",
            "Iteration: 2900, Loss: 5.834466966580937e-09\n",
            "Iteration: 3000, Loss: 5.8344669665715075e-09\n",
            "Iteration: 3100, Loss: 5.834466966574974e-09\n",
            "Iteration: 3200, Loss: 5.834466966574832e-09\n",
            "Iteration: 3300, Loss: 5.834466966574475e-09\n",
            "Iteration: 3400, Loss: 5.834466966574475e-09\n",
            "Iteration: 3500, Loss: 5.834466966574475e-09\n",
            "Iteration: 3600, Loss: 5.834466966574475e-09\n",
            "Iteration: 3700, Loss: 5.834466966574475e-09\n",
            "Iteration: 3800, Loss: 5.834466966574475e-09\n",
            "Iteration: 3900, Loss: 5.834466966574475e-09\n",
            "Iteration: 4000, Loss: 5.834466966574475e-09\n",
            "Iteration: 4100, Loss: 5.834466966574475e-09\n",
            "Iteration: 4200, Loss: 5.834466966574475e-09\n",
            "Iteration: 4300, Loss: 5.834466966574475e-09\n",
            "Iteration: 4400, Loss: 5.834466966574475e-09\n",
            "Iteration: 4500, Loss: 5.834466966574475e-09\n",
            "Iteration: 4600, Loss: 5.834466966574475e-09\n",
            "Iteration: 4700, Loss: 5.834466966574475e-09\n",
            "Iteration: 4800, Loss: 5.834466966574475e-09\n",
            "Iteration: 4900, Loss: 5.834466966574475e-09\n",
            "Iteration: 5000, Loss: 5.834466966574475e-09\n",
            "Iteration: 5100, Loss: 5.834466966574475e-09\n",
            "Iteration: 5200, Loss: 5.834466966574475e-09\n",
            "Iteration: 5300, Loss: 5.834466966574475e-09\n",
            "Iteration: 5400, Loss: 5.834466966574475e-09\n",
            "Iteration: 5500, Loss: 5.834466966574475e-09\n",
            "Iteration: 5600, Loss: 5.834466966574475e-09\n",
            "Iteration: 5700, Loss: 5.834466966574475e-09\n",
            "Iteration: 5800, Loss: 5.834466966574475e-09\n",
            "Iteration: 5900, Loss: 5.834466966574475e-09\n",
            "Iteration: 6000, Loss: 5.834466966574475e-09\n",
            "Iteration: 6100, Loss: 5.834466966574475e-09\n",
            "Iteration: 6200, Loss: 5.834466966574475e-09\n",
            "Iteration: 6300, Loss: 5.834466966574475e-09\n",
            "Iteration: 6400, Loss: 5.834466966574475e-09\n",
            "Iteration: 6500, Loss: 5.834466966574475e-09\n",
            "Iteration: 6600, Loss: 5.834466966574475e-09\n",
            "Iteration: 6700, Loss: 5.834466966574475e-09\n",
            "Iteration: 6800, Loss: 5.834466966574475e-09\n",
            "Iteration: 6900, Loss: 5.834466966574475e-09\n",
            "Iteration: 7000, Loss: 5.834466966574475e-09\n",
            "Iteration: 7100, Loss: 5.834466966574475e-09\n",
            "Iteration: 7200, Loss: 5.834466966574475e-09\n",
            "Iteration: 7300, Loss: 5.834466966574475e-09\n",
            "Iteration: 7400, Loss: 5.834466966574475e-09\n",
            "Iteration: 7500, Loss: 5.834466966574475e-09\n",
            "Iteration: 7600, Loss: 5.834466966574475e-09\n",
            "Iteration: 7700, Loss: 5.834466966574475e-09\n",
            "Iteration: 7800, Loss: 5.834466966574475e-09\n",
            "Iteration: 7900, Loss: 5.834466966574475e-09\n",
            "Iteration: 8000, Loss: 5.834466966574475e-09\n",
            "Iteration: 8100, Loss: 5.834466966574475e-09\n",
            "Iteration: 8200, Loss: 5.834466966574475e-09\n",
            "Iteration: 8300, Loss: 5.834466966574475e-09\n",
            "Iteration: 8400, Loss: 5.834466966574475e-09\n",
            "Iteration: 8500, Loss: 5.834466966574475e-09\n",
            "Iteration: 8600, Loss: 5.834466966574475e-09\n",
            "Iteration: 8700, Loss: 5.834466966574475e-09\n",
            "Iteration: 8800, Loss: 5.834466966574475e-09\n",
            "Iteration: 8900, Loss: 5.834466966574475e-09\n",
            "Iteration: 9000, Loss: 5.834466966574475e-09\n",
            "Iteration: 9100, Loss: 5.834466966574475e-09\n",
            "Iteration: 9200, Loss: 5.834466966574475e-09\n",
            "Iteration: 9300, Loss: 5.834466966574475e-09\n",
            "Iteration: 9400, Loss: 5.834466966574475e-09\n",
            "Iteration: 9500, Loss: 5.834466966574475e-09\n",
            "Iteration: 9600, Loss: 5.834466966574475e-09\n",
            "Iteration: 9700, Loss: 5.834466966574475e-09\n",
            "Iteration: 9800, Loss: 5.834466966574475e-09\n",
            "Iteration: 9900, Loss: 5.834466966574475e-09\n"
          ]
        }
      ]
    },
    {
      "cell_type": "code",
      "source": [
        "(brain.dense_classification(X_test, 1, params).flat == Y_test.flat).mean()"
      ],
      "metadata": {
        "colab": {
          "base_uri": "https://localhost:8080/"
        },
        "id": "wWEg6eKUGipj",
        "outputId": "7f7b314c-2770-4988-9dba-456b6b65e996"
      },
      "execution_count": null,
      "outputs": [
        {
          "output_type": "execute_result",
          "data": {
            "text/plain": [
              "1.0"
            ]
          },
          "metadata": {},
          "execution_count": 49
        }
      ]
    },
    {
      "cell_type": "code",
      "source": [
        "params"
      ],
      "metadata": {
        "colab": {
          "base_uri": "https://localhost:8080/"
        },
        "id": "aq5lkMFBgBtQ",
        "outputId": "07581de0-a510-4fd0-c0cc-526a3b86d4c9"
      },
      "execution_count": null,
      "outputs": [
        {
          "output_type": "execute_result",
          "data": {
            "text/plain": [
              "array([ 4.65054066e-05,  1.64220896e-05,  2.28523745e-07, -5.22838284e-05,\n",
              "       -1.00461879e-04])"
            ]
          },
          "metadata": {},
          "execution_count": 50
        }
      ]
    }
  ]
}